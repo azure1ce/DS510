{
 "cells": [
  {
   "cell_type": "code",
   "execution_count": 39,
   "id": "412c9dba",
   "metadata": {},
   "outputs": [],
   "source": [
    "class Vehicle:\n",
    "    \"\"\"Attributes and Methods of class Vehicle\"\"\"\n",
    "\n",
    "    def __init__(self, vehicle_id: str, make: str, model: str, year: int):\n",
    "        self.vehicle_id = vehicle_id\n",
    "        self.make = make\n",
    "        self.model = model\n",
    "        self.year = year\n",
    "\n",
    "    def __str__(self):\n",
    "        return f\"Vehicle(vehicle_id='{self.vehicle_id}',make='{self.make}',model='{self.model}',year={self.year})\"\n",
    "\n",
    "    def __repr__(self):\n",
    "        return f\"Vehicle(vehicle_id='{self.vehicle_id}',make='{self.make}',model='{self.model}',year={self.year})\"\n"
   ]
  },
  {
   "cell_type": "code",
   "execution_count": 40,
   "id": "b5572a2f",
   "metadata": {},
   "outputs": [],
   "source": [
    "car = Vehicle(\"VIN123\", \"Toyota\", \"Camry\", 2020)"
   ]
  },
  {
   "cell_type": "code",
   "execution_count": 41,
   "id": "ae9a76eb",
   "metadata": {},
   "outputs": [
    {
     "name": "stdout",
     "output_type": "stream",
     "text": [
      "Vehicle(vehicle_id=VIN123,make=Toyota,model=Camry,year=2020)\n"
     ]
    }
   ],
   "source": [
    "print(car)"
   ]
  },
  {
   "cell_type": "code",
   "execution_count": 3,
   "id": "66afcc8b",
   "metadata": {},
   "outputs": [],
   "source": [
    "class LibraryMember:\n",
    "    \"\"\"Attributes and Methods of class Library Member\"\"\"\n",
    "\n",
    "    def __init__(self, member_id: str, name: str):\n",
    "        self.member_id = member_id\n",
    "        self.name = name\n",
    "        self.borrowed_books = []\n",
    "\n",
    "    def __str__(self):\n",
    "        return f\"LibraryMember(member_id='{self.member_id}',name='{self.name}',total_borrowed={self.count_books()})\"\n",
    "\n",
    "    def __repr__(self):\n",
    "        return f\"LibraryMember(member_id='{self.member_id}',name='{self.name}',total_borrowed={self.count_books()})\"\n",
    "    \n",
    "    def add_book(self, book_title: str):\n",
    "        self.borrowed_books.append(book_title)\n",
    "\n",
    "    def remove_book(self, book_title: str):\n",
    "        self.borrowed_books.remove(book_title)\n",
    "\n",
    "    def count_books(self):\n",
    "        return len(self.borrowed_books)\n"
   ]
  },
  {
   "cell_type": "code",
   "execution_count": 4,
   "id": "39532048",
   "metadata": {},
   "outputs": [
    {
     "name": "stdout",
     "output_type": "stream",
     "text": [
      "member_id=001,name=Alice,total_borrowed=1\n"
     ]
    }
   ],
   "source": [
    "member = LibraryMember(\"001\", \"Alice\")\n",
    "member.add_book(\"The Great Gatsby\")\n",
    "print(member)"
   ]
  },
  {
   "cell_type": "code",
   "execution_count": 7,
   "id": "86dd8190",
   "metadata": {},
   "outputs": [],
   "source": [
    "class Product:\n",
    "    \"\"\"Attributes and Methods of class Product\"\"\"\n",
    "    def __init__(\n",
    "        self, product_code: str, name: str, price: float, quantity_available: int\n",
    "    ):\n",
    "        self.product_code = product_code\n",
    "        self.name = name\n",
    "        self.price = price\n",
    "        self.quantity_available = quantity_available\n",
    "\n",
    "    def __str__(self):\n",
    "        return f\"Product(product_code='{self.product_code}', name='{self.name}', price={self.price}, quantity_available={self.quantity_available})\"\n",
    "\n",
    "    def __repr__(self):\n",
    "        return f\"Product(product_code='{self.product_code}', name='{self.name}', price={self.price}, quantity_available={self.quantity_available})\"\n",
    "\n",
    "    def update_price(self, new_price: float):\n",
    "        self.price = new_price\n",
    "\n",
    "    def add_stock(self, quantity: int):\n",
    "        self.quantity_available += quantity\n",
    "\n",
    "    def sell_product(self, quantity: int):\n",
    "        if self.quantity_available < quantity:\n",
    "            self.quantity_available\n",
    "        else:\n",
    "            self.quantity_available -= quantity"
   ]
  },
  {
   "cell_type": "code",
   "execution_count": 8,
   "id": "e459d62f",
   "metadata": {},
   "outputs": [
    {
     "name": "stdout",
     "output_type": "stream",
     "text": [
      "product_code=12345, name=Coffee Mug, price=12.99, quantity_available=98\n"
     ]
    }
   ],
   "source": [
    "product = Product(\"12345\", \"Coffee Mug\", 12.99, 100)\n",
    "product.sell_product(2)\n",
    "print(product)"
   ]
  },
  {
   "cell_type": "code",
   "execution_count": null,
   "id": "e6dc0ec1",
   "metadata": {},
   "outputs": [],
   "source": []
  }
 ],
 "metadata": {
  "kernelspec": {
   "display_name": "Python 3 (ipykernel)",
   "language": "python",
   "name": "python3"
  },
  "language_info": {
   "codemirror_mode": {
    "name": "ipython",
    "version": 3
   },
   "file_extension": ".py",
   "mimetype": "text/x-python",
   "name": "python",
   "nbconvert_exporter": "python",
   "pygments_lexer": "ipython3",
   "version": "3.11.5"
  }
 },
 "nbformat": 4,
 "nbformat_minor": 5
}
