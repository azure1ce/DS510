{
 "cells": [
  {
   "cell_type": "markdown",
   "metadata": {},
   "source": [
    "# Q1: Files and exceptions"
   ]
  },
  {
   "cell_type": "code",
   "execution_count": null,
   "metadata": {},
   "outputs": [],
   "source": [
    "my_list = [0, \"hi\", 3.4]\n",
    "try:\n",
    "    string_input = input(\"Enter an index between 0 and 2: \")   \n",
    "    int_input = int(string_input)\n",
    "    \n",
    "    # We are using the input we received as an index to a list\n",
    "    modified_input = 1 / my_list[int_input]\n",
    "    \n",
    "# This will catch errors to the int(string_input) clause, if we don't enter an integer\n",
    "except ValueError:\n",
    "    print(\"You didn't enter an integer!\")\n",
    "# This will catch errors to the my_list[int_input] clause, if our index is out of range (0, 1 or 2)\n",
    "except IndexError:\n",
    "    print(\"Your index was out of range!\")\n",
    "# This will catch errors in the my_list[int_input] + 1 clause, if what's returned from the list can't be used in integer addition\n",
    "except TypeError:\n",
    "    print(\"Something was the wrong type!\")\n",
    "except:\n",
    "    print('Something else went wrong')\n",
    "else:\n",
    "    print(\"Your new input is:\", modified_input)\n",
    "finally:\n",
    "    print(\"We're all done!\")"
   ]
  },
  {
   "cell_type": "markdown",
   "metadata": {},
   "source": [
    "## Q2: A practical example of files - creating a personal diary"
   ]
  },
  {
   "cell_type": "code",
   "execution_count": null,
   "metadata": {},
   "outputs": [],
   "source": [
    "from datetime import datetime\n",
    "from getpass import getpass\n",
    "\n",
    "def get_user_credentials():\n",
    "    username = input(\"Enter your username: \")\n",
    "    password = getpass()\n",
    "    return username, password\n",
    "\n",
    "def check_file_exists(file):\n",
    "    try:\n",
    "        file = open(file, 'r')\n",
    "        file.close()\n",
    "        return True\n",
    "    except FileNotFoundError:\n",
    "        # You can bubble up the exception to the caller\n",
    "        raise FileNotFoundError(f\"File {file} not found.\")\n",
    "\n",
    "def check_credentials(username, password, credentials_file):\n",
    "    file = open(credentials_file, 'r')\n",
    "    for line in file:\n",
    "        stored_username, stored_password = line.strip().split(',')\n",
    "        if username == stored_username and password == stored_password:\n",
    "            # I've forgotten something here\n",
    "            return True\n",
    "    file.close()\n",
    "    return False\n",
    "\n",
    "def get_user_input():\n",
    "    return input(\"What's on your mind? \")\n",
    "\n",
    "def save_to_file(file_path, content):\n",
    "    timestamp = datetime.now().strftime(\"%Y-%m-%d %H:%M:%S\")\n",
    "    with open(file_path, 'a+') as file:\n",
    "        file.write(f\"{timestamp}: {content}\\n\")\n",
    "    print(\"Diary log added!\")\n",
    "\n",
    "CREDENTIALS_FILE = \"user_credentials.txt\"\n",
    "\n",
    "try:\n",
    "    check_file_exists(CREDENTIALS_FILE)\n",
    "except FileNotFoundError as e:\n",
    "    print(e)\n",
    "else:\n",
    "    username, password = get_user_credentials()\n",
    "    if check_credentials(username, password, CREDENTIALS_FILE):\n",
    "        file_path = f\"./diary/{username}_thoughts.txt\"\n",
    "        user_input = get_user_input()\n",
    "        save_to_file(file_path, user_input)\n",
    "    else:\n",
    "        print(\"Invalid credentials. Access denied.\")\n"
   ]
  },
  {
   "cell_type": "markdown",
   "metadata": {},
   "source": [
    "## Lab Task\n",
    "Take this program a step further by adding an option to add a user. Add an option to add a user and let him set his password. The password will be stored in our credentials file and will be used to verify the user's identity in the future. After logging in he must be able to add to his diary."
   ]
  },
  {
   "cell_type": "markdown",
   "metadata": {},
   "source": [
    "## Q3: Mutability - List vs string"
   ]
  },
  {
   "cell_type": "code",
   "execution_count": null,
   "metadata": {},
   "outputs": [],
   "source": [
    "my_list = [1, 2, 3, 4, 5]\n",
    "my_list[2] = 10\n",
    "my_list[3:5] = [5, 6, 7]\n",
    "\n",
    "print(my_list)"
   ]
  },
  {
   "cell_type": "code",
   "execution_count": null,
   "metadata": {},
   "outputs": [],
   "source": [
    "my_string = \"Hello, World!\"\n",
    "\n",
    "# Uncommenting the lines below will result in a TypeError\n",
    "# my_string[7] = 'U'\n",
    "# my_string[7:12] = 'sunshine'\n",
    "\n",
    "print(my_string)"
   ]
  },
  {
   "cell_type": "code",
   "execution_count": null,
   "metadata": {},
   "outputs": [],
   "source": [
    "my_string = \"Hello, World!\"\n",
    "\n",
    "my_string = my_string[:7] + 'U' + my_string[8:]\n",
    "print(my_string)\n",
    "\n",
    "my_string = my_string[:7] + 'sunshine' + my_string[12:]\n",
    "print(my_string)"
   ]
  },
  {
   "cell_type": "markdown",
   "metadata": {},
   "source": [
    "## Q4: Shallow vs deep copy"
   ]
  },
  {
   "cell_type": "code",
   "execution_count": null,
   "metadata": {},
   "outputs": [],
   "source": [
    "import copy\n",
    " \n",
    "list1 = [ 1, [2, 3] , 4 ]\n",
    "\n",
    "# Only the reference is copied over\n",
    "# Whatever the changes we are doing with the original object will affect the reference object or vice versa.\n",
    "list2 = list1\n",
    " \n",
    "# Shallow copy - changes to nested list is reflected (same as copy.copy(), slicing)\n",
    "# The copy method copies the reference of the compound objects, i.e., it is the same as the reference method but only for nested items. \n",
    "# So, appending a new item to the copied compound objects won’t affect the original object,\n",
    "# but modifying the copied nested items will affect the original object.\n",
    "list3 = list1.copy()\n",
    "# list3 = list1[:]\n",
    " \n",
    "# deep copy - no change is reflected\n",
    "# the original and the copy, are fully independent this time.\n",
    "# whatever the modification changed in copied object won’t affect the original object or vice versa\n",
    "list4 = copy.deepcopy(list1)\n",
    " \n",
    "\n",
    "list1.append(5)\n",
    "list1[1][0] = 999\n",
    " \n",
    "print(\"list 1 after modification:\\n\", list1)\n",
    "print(\"list 2 after modification:\\n\", list2)\n",
    "print(\"list 3 after modification:\\n\", list3)\n",
    "print(\"list 4 after modification:\\n\", list4)"
   ]
  },
  {
   "cell_type": "markdown",
   "metadata": {},
   "source": [
    "## Q5: is vs ==, are they the same thing?"
   ]
  },
  {
   "cell_type": "code",
   "execution_count": null,
   "metadata": {},
   "outputs": [],
   "source": [
    "import copy\n",
    "\n",
    "original_list = [1, 2, [3, 4]]\n",
    "\n",
    "shallow_copied_list = copy.copy(original_list)\n",
    "\n",
    "deep_copied_list = copy.deepcopy(original_list)\n",
    "\n",
    "print(\"Original List is shallow_copied_list:\", original_list is shallow_copied_list)\n",
    "print(\"Original List == shallow_copied_list:\", original_list == shallow_copied_list)\n",
    "\n",
    "print(\"Original List is deep_copied_list:\", original_list is deep_copied_list)\n",
    "print(\"Original List == deep_copied_list:\", original_list == deep_copied_list)\n",
    "\n",
    "original_list[2][0] = 99\n",
    "\n",
    "# When will 'is' return true?\n",
    "# What will '==' return after modifying the list?\n",
    "\n",
    "print(\"Original List:\", original_list)\n",
    "print(\"Shallow Copied List:\", shallow_copied_list)\n",
    "print(\"Deep Copied List:\", deep_copied_list)\n"
   ]
  },
  {
   "cell_type": "markdown",
   "metadata": {},
   "source": [
    "## Q6: Is there a difference - list() vs []\n",
    "\n",
    "In almost all situations, these two notations are interchangable. However, there are some differences. The most important one is that list() can be used to convert any iterable to a list, while [] can only be used to create a new list. This is because the list() function is a constructor, while [] is a literal. (we will about this in week 6)"
   ]
  },
  {
   "cell_type": "code",
   "execution_count": null,
   "metadata": {},
   "outputs": [],
   "source": [
    "list_a = [1, 2, 3]\n",
    "list_b = [4, 5, 6]\n",
    "\n",
    "list_using_literal = [list_a] + [list_b]\n",
    "print(list_using_literal)\n",
    "\n",
    "list_using_constructor = list(list_a) + list(list_b)\n",
    "print(list_using_constructor)"
   ]
  },
  {
   "cell_type": "markdown",
   "metadata": {},
   "source": [
    "## Q7: Matrix multiplication - Lists and Loops\n",
    "\n",
    "In this exercise, we will write a function to multiply two matrices together.  We will represent matrices as lists of lists, with each inner list representing one row of the matrix."
   ]
  },
  {
   "cell_type": "code",
   "execution_count": 1,
   "metadata": {},
   "outputs": [
    {
     "name": "stdout",
     "output_type": "stream",
     "text": [
      "Matrix A:\n",
      "[1, 2, 3]\n",
      "[4, 5, 6]\n",
      "[7, 8, 9]\n",
      "\n",
      "Matrix B:\n",
      "[4, 1]\n",
      "[1, 4]\n",
      "[3, 8]\n",
      "\n",
      "Resultant Matrix:\n",
      "[15, 33]\n",
      "[39, 72]\n",
      "[63, 111]\n"
     ]
    }
   ],
   "source": [
    "def matrix_multiply(matrix_a, matrix_b):\n",
    "    row_a = len(matrix_a)\n",
    "    col_a = len(matrix_a[0])\n",
    "    row_b = len(matrix_b)\n",
    "    col_b = len(matrix_b[0])\n",
    "    \n",
    "    # Check if matrices can be multiplied\n",
    "    if col_a != row_b:\n",
    "        raise ValueError(\"Matrices cannot be multiplied. The number of columns in matrix A must be equal to the number of rows in matrix B.\")\n",
    "\n",
    "    # Initialize the result matrix with zeros\n",
    "    result_matrix = [ [0]*col_b for i in range(row_a) ]\n",
    "\n",
    "    for i in range(row_a):\n",
    "        for j in range(col_b):\n",
    "            for k in range(col_a):\n",
    "                result_matrix[i][j] += matrix_a[i][k] * matrix_b[k][j]\n",
    "\n",
    "    return result_matrix\n",
    "\n",
    "matrix_A = [[1,2,3],\n",
    "            [4,5,6],\n",
    "            [7,8,9]]\n",
    "\n",
    "matrix_B = [[4,1],\n",
    "            [1,4],\n",
    "            [3,8]]\n",
    "\n",
    "result = matrix_multiply(matrix_A, matrix_B)\n",
    "\n",
    "print(\"Matrix A:\")\n",
    "for row in matrix_A:\n",
    "    print(row)\n",
    "\n",
    "print(\"\\nMatrix B:\")\n",
    "for row in matrix_B:\n",
    "    print(row)\n",
    "\n",
    "print(\"\\nResultant Matrix:\")\n",
    "for row in result:\n",
    "    print(row)"
   ]
  }
 ],
 "metadata": {
  "kernelspec": {
   "display_name": "Python 3 (ipykernel)",
   "language": "python",
   "name": "python3"
  },
  "language_info": {
   "codemirror_mode": {
    "name": "ipython",
    "version": 3
   },
   "file_extension": ".py",
   "mimetype": "text/x-python",
   "name": "python",
   "nbconvert_exporter": "python",
   "pygments_lexer": "ipython3",
   "version": "3.11.5"
  }
 },
 "nbformat": 4,
 "nbformat_minor": 2
}
